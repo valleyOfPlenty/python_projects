{
 "cells": [
  {
   "cell_type": "code",
   "execution_count": 1,
   "metadata": {},
   "outputs": [],
   "source": [
    "# my first project"
   ]
  },
  {
   "cell_type": "code",
   "execution_count": 2,
   "metadata": {},
   "outputs": [
    {
     "name": "stdout",
     "output_type": "stream",
     "text": [
      "True\n"
     ]
    }
   ],
   "source": [
    "a = 3\n",
    "if not a == 2 :\n",
    "    print('True')"
   ]
  },
  {
   "cell_type": "code",
   "execution_count": 3,
   "metadata": {},
   "outputs": [
    {
     "data": {
      "text/plain": [
       "387420489"
      ]
     },
     "execution_count": 3,
     "metadata": {},
     "output_type": "execute_result"
    }
   ],
   "source": [
    "9**9"
   ]
  },
  {
   "cell_type": "code",
   "execution_count": 4,
   "metadata": {},
   "outputs": [],
   "source": [
    "from IPython.display import clear_output\n",
    "def print_board() :\n",
    "    clear_output()\n",
    "    board = ['#','X','O','X','O','X','O','X','O','X']\n",
    "    print(board[7] + '|' + board[8] + '|' + board[9])\n",
    "    print(board[4] + '|' + board[5] + '|' + board[6])\n",
    "    print(board[1] + '|' + board[2] + '|' + board[3])"
   ]
  },
  {
   "cell_type": "code",
   "execution_count": 5,
   "metadata": {},
   "outputs": [
    {
     "name": "stdout",
     "output_type": "stream",
     "text": [
      "X|O|X\n",
      "O|X|O\n",
      "X|O|X\n"
     ]
    }
   ],
   "source": [
    "print_board()\n",
    "print_board()"
   ]
  },
  {
   "cell_type": "code",
   "execution_count": 6,
   "metadata": {},
   "outputs": [],
   "source": [
    "my_list = [a,b,c] = [1,2,3]"
   ]
  },
  {
   "cell_type": "code",
   "execution_count": 7,
   "metadata": {},
   "outputs": [
    {
     "data": {
      "text/plain": [
       "1"
      ]
     },
     "execution_count": 7,
     "metadata": {},
     "output_type": "execute_result"
    }
   ],
   "source": [
    "a"
   ]
  },
  {
   "cell_type": "code",
   "execution_count": 8,
   "metadata": {},
   "outputs": [
    {
     "name": "stdout",
     "output_type": "stream",
     "text": [
      "[1, 2, 3]\n"
     ]
    }
   ],
   "source": [
    "print(my_list)"
   ]
  },
  {
   "cell_type": "code",
   "execution_count": 9,
   "metadata": {},
   "outputs": [
    {
     "name": "stdout",
     "output_type": "stream",
     "text": [
      "[7, 8, 9]\n",
      "[4, 5, 6]\n",
      "[1, 2, 3]\n"
     ]
    }
   ],
   "source": [
    " [a,b,c] = [7,8,9]\n",
    "for i in range(3) :\n",
    "    print([a,b,c])\n",
    "    a = a - 3\n",
    "    b = b - 3\n",
    "    c = c - 3"
   ]
  },
  {
   "cell_type": "code",
   "execution_count": 10,
   "metadata": {},
   "outputs": [],
   "source": [
    "def marker() :\n",
    "    inp = input(\"Enter your marker PLAYER_1 : \")\n",
    "    while inp != 'X' and inp != 'O' :\n",
    "        inp = input('Enter either X or O : ')\n",
    "    print(\"You have finally chosen the correct marker \")\n",
    "    if inp == 'X' :\n",
    "        print('PLAYER_1 : X ;; PLAYER_2 : O')\n",
    "    if inp == 'O' :\n",
    "        print('PLAYER_1 : O ;; PLAYER_2 : X')"
   ]
  },
  {
   "cell_type": "code",
   "execution_count": 11,
   "metadata": {},
   "outputs": [
    {
     "name": "stdout",
     "output_type": "stream",
     "text": [
      "Enter your marker PLAYER_1 : X\n",
      "You have finally chosen the correct marker \n",
      "PLAYER_1 : X ;; PLAYER_2 : O\n"
     ]
    }
   ],
   "source": [
    "marker()"
   ]
  },
  {
   "cell_type": "code",
   "execution_count": null,
   "metadata": {},
   "outputs": [],
   "source": []
  },
  {
   "cell_type": "code",
   "execution_count": 15,
   "metadata": {},
   "outputs": [],
   "source": [
    "from IPython.display import clear_output\n",
    "def game() :\n",
    "    k = input(\"DO YOU WANT TO PLAY THE GAME (Yes or No) :  \")\n",
    "    board = [' ']*9\n",
    "    print(board)\n",
    "    while k == 'Yes' :\n",
    "        for items in board :\n",
    "            mark = input(\"ENTER YOUR MARKER: \")\n",
    "            position = int(input(\"Enter the position you want to place your marker : \"))\n",
    "            clear_output()\n",
    "            if board[position - 1] == ' ' :\n",
    "                if mark == 'X' :\n",
    "                    board[position - 1] = 'X'\n",
    "                    print(board[6] + '|' + board[7] + '|' + board[8])\n",
    "                    print('-----')\n",
    "                    print(board[3] + '|' + board[4] + '|' + board[5])\n",
    "                    print('-----')\n",
    "                    print(board[0] + '|' + board[1] + '|' + board[2])\n",
    "                    if board[6] == board[7] == board[8] == 'X' :\n",
    "                        print('YOU WON')\n",
    "                        break\n",
    "                    elif board[3] == board[4] == board[5] == 'X' :\n",
    "                        print('YOU WON')\n",
    "                        break\n",
    "                    elif board[0] == board[1] == board[2] == 'X' :\n",
    "                        print('YOU WON')\n",
    "                        break\n",
    "                    elif board[0] == board[3] == board[6] == 'X' :\n",
    "                        print('YOU WON')\n",
    "                        break\n",
    "                    elif board[1] == board[4] == board[7] == 'X' :\n",
    "                        print('YOU WON')\n",
    "                        break\n",
    "                    elif board[2] == board[5] == board[8] == 'X' :\n",
    "                        print('YOU WON')\n",
    "                        break\n",
    "                    elif board[0] == board[4] == board[8] == 'X' :\n",
    "                        print('YOU WON')\n",
    "                        break\n",
    "                    elif board[2] == board[4] == board[6] == 'X' :\n",
    "                        print('YOU WON')\n",
    "                        break\n",
    "                    else :\n",
    "                        continue\n",
    "                elif mark == 'O' :\n",
    "                    board[position - 1] = 'O'\n",
    "                    print(board[6] + '|' + board[7] + '|' + board[8])\n",
    "                    print('-----')\n",
    "                    print(board[3] + '|' + board[4] + '|' + board[5])\n",
    "                    print('-----')\n",
    "                    print(board[0] + '|' + board[1] + '|' + board[2]) \n",
    "                    if board[6] == board[7] == board[8] == 'O' :\n",
    "                        print('YOU WON')\n",
    "                        break\n",
    "                    elif board[3] == board[4] == board[5] == 'O' :\n",
    "                        print('YOU WON')\n",
    "                        break\n",
    "                    elif board[0] == board[1] == board[2] == 'O' :\n",
    "                        print('YOU WON')\n",
    "                        break\n",
    "                    elif board[0] == board[3] == board[6] == 'O' :\n",
    "                        print('YOU WON')\n",
    "                        break\n",
    "                    elif board[1] == board[4] == board[7] == 'O' :\n",
    "                        print('YOU WON')\n",
    "                        break\n",
    "                    elif board[2] == board[5] == board[8] == 'O' :\n",
    "                        print('YOU WON')\n",
    "                        break\n",
    "                    elif board[0] == board[4] == board[8] == 'O' :\n",
    "                        print('YOU WON')\n",
    "                        break\n",
    "                    elif board[2] == board[4] == board[6] == 'O' :\n",
    "                        print('YOU WON')\n",
    "                        break\n",
    "                    else :\n",
    "                        continue\n",
    "                else :\n",
    "                    print(\"You have entered the wrong marker\")\n",
    "                    break\n",
    "            else :\n",
    "                print('Sorry! you are cheating!')\n",
    "                break\n",
    "        k = input(\"Do you want to play again : \")\n",
    "    print(\"THANK YOU!\")\n",
    "            "
   ]
  },
  {
   "cell_type": "code",
   "execution_count": 16,
   "metadata": {},
   "outputs": [
    {
     "name": "stdout",
     "output_type": "stream",
     "text": [
      "You have entered the wrong marker\n",
      "Do you want to play again : No\n",
      "THANK YOU!\n"
     ]
    }
   ],
   "source": [
    "marker()\n",
    "game()"
   ]
  },
  {
   "cell_type": "code",
   "execution_count": null,
   "metadata": {},
   "outputs": [],
   "source": []
  },
  {
   "cell_type": "code",
   "execution_count": null,
   "metadata": {},
   "outputs": [],
   "source": []
  }
 ],
 "metadata": {
  "kernelspec": {
   "display_name": "Python 3",
   "language": "python",
   "name": "python3"
  },
  "language_info": {
   "codemirror_mode": {
    "name": "ipython",
    "version": 3
   },
   "file_extension": ".py",
   "mimetype": "text/x-python",
   "name": "python",
   "nbconvert_exporter": "python",
   "pygments_lexer": "ipython3",
   "version": "3.7.3"
  }
 },
 "nbformat": 4,
 "nbformat_minor": 2
}
