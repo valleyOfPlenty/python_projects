{
 "cells": [
  {
   "cell_type": "code",
   "execution_count": 1,
   "metadata": {},
   "outputs": [],
   "source": [
    "# BLACKJACK"
   ]
  },
  {
   "cell_type": "code",
   "execution_count": 2,
   "metadata": {},
   "outputs": [
    {
     "name": "stdout",
     "output_type": "stream",
     "text": [
      "[1, 2, 3, 4, 5, 6, 7, 8, 9, 10, 11, 12, 13, 14, 15, 16, 17, 18, 19, 20, 21, 22, 23, 24, 25, 26, 27, 28, 29, 30, 31, 32, 33, 34, 35, 36, 37, 38, 39, 40, 41, 42, 43, 44, 45, 46, 47, 48, 49, 50, 51, 52]\n"
     ]
    }
   ],
   "source": [
    "list_of_cards = list(range(1,53))\n",
    "print(list_of_cards)\n"
   ]
  },
  {
   "cell_type": "code",
   "execution_count": 5,
   "metadata": {},
   "outputs": [
    {
     "name": "stdout",
     "output_type": "stream",
     "text": [
      "6\n"
     ]
    }
   ],
   "source": [
    "a = 5\n",
    "b = 6\n",
    "c = 7\n",
    "ls = [a,b,c]\n",
    "ps = [1,2,3]\n",
    "ls[0] = ps[0]\n",
    "ls[1] = ps[1]\n",
    "ls[2] = ps[2]\n",
    "print(b)"
   ]
  },
  {
   "cell_type": "code",
   "execution_count": 2,
   "metadata": {},
   "outputs": [],
   "source": [
    "class My_account() :\n",
    "    def __init__(self,name,total_money,bet) :\n",
    "        self.player_name = name\n",
    "        self.account_money = total_money\n",
    "        self.bet_placed = bet\n",
    "    def lost(self) :\n",
    "        self.account_money = self.account_money - self.bet_placed\n",
    "    def won(self) :\n",
    "        self.account_money = self.account_money + self.bet_placed\n",
    "    def bumper_won(self) :\n",
    "        self.account_money = self.account_money + 1.5*self.bet_placed"
   ]
  },
  {
   "cell_type": "code",
   "execution_count": 3,
   "metadata": {},
   "outputs": [
    {
     "data": {
      "text/plain": [
       "True"
      ]
     },
     "execution_count": 3,
     "metadata": {},
     "output_type": "execute_result"
    }
   ],
   "source": [
    "#Check\n",
    "para = 'FRIEND'\n",
    "para.lower() == 'friend'"
   ]
  },
  {
   "cell_type": "code",
   "execution_count": 4,
   "metadata": {},
   "outputs": [
    {
     "name": "stdout",
     "output_type": "stream",
     "text": [
      "Do you want to play : yes\n",
      "AVAILABLE BALANCE =  300000\n",
      "Enter the amount of bet you want to place : 6000\n",
      "PLAYER'S CHANCE - Do you want to hit or stand : stand\n",
      "DEALER'S CHANCE - Do you want to hit or stand : stand\n",
      "ITS A TIE\n",
      "Do you want to play again? : yes\n",
      "AVAILABLE BALANCE =  300000\n",
      "Enter the amount of bet you want to place : 15000\n",
      "PLAYER'S CHANCE - Do you want to hit or stand : stand\n",
      "DEALER'S CHANCE - Do you want to hit or stand : hit\n",
      "YOU HAVE CHOSEN  c_two\n",
      "SUM OF YOUR NUMBERS ARE :  2\n",
      "Type hit or stand : stand\n",
      "DEALER WON\n",
      "BALANCE :  285000\n",
      "Do you want to play again? : no\n",
      "BYE SIR/MADAM\n"
     ]
    }
   ],
   "source": [
    "k = input(\"Do you want to play : \")\n",
    "information = My_account('ARJAV',300000,1500)\n",
    "while k.lower() == 'yes' :\n",
    "    p = 0\n",
    "    l = 0\n",
    "    my_clubs_dic = {1 : 'c_ace' , 2 : 'c_two' , 3 : 'c_three' , 4 : 'c_four' , 5 : 'c_five' , 6 : 'c_six' , 7 : 'c_seven' , 8 : 'c_eight' , 9 : 'c_nine' , 10 : 'c_ten' , 11 : 'c_jack' , 12 : 'c_queen' , 13 : 'c_king' , 14 : 'c_ace'}\n",
    "    my_spades_dic = {1 : 's_ace' , 2 : 's_two' , 3 : 's_three' , 4 : 's_four' , 5 : 's_five' , 6 : 's_six' , 7 : 's_seven' , 8 : 's_eight' , 9 : 's_nine' , 10 : 's_ten' , 11 : 's_jack' , 12 : 's_queen' , 13 : 's_king' , 14 : 's_ace'}\n",
    "    my_hearts_dic = {1 : 'h_ace' , 2 : 'h_two' , 3 : 'h_three' , 4 : 'h_four' , 5 : 'h_five' , 6 : 'h_six' , 7 : 'h_seven' , 8 : 'h_eight' , 9 : 'h_nine' , 10 : 'h_ten' , 11 : 'h_jack' , 12 : 'h_queen' , 13 : 'h_king' , 14 : 'h_ace'}\n",
    "    my_diamonds_dic = {1 : 'd_ace' , 2 : 'd_two' , 3 : 'd_three' , 4 : 'd_four' , 5 : 'd_five' , 6 : 'd_six' , 7 : 'd_seven' , 8 : 'd_eight' , 9 : 'd_nine' , 10 : 'd_ten' , 11 : 'd_jack' , 12 : 'd_queen' , 13 : 'd_king' , 14 : 'd_ace'}\n",
    "    special_list = [ my_clubs_dic , my_spades_dic , my_hearts_dic , my_diamonds_dic ]\n",
    "    num_list = [1,2,3,4,5,6,7,8,9,10,11,12,13,14]\n",
    "    import random\n",
    "    print('AVAILABLE BALANCE = ',information.account_money)\n",
    "    i = int(input(\"Enter the amount of bet you want to place : \"))\n",
    "    information = My_account('ARJAV',information.account_money,i)\n",
    "    if i > information.account_money :\n",
    "        print('YOU ARE NO LONGER ELIGIBLE TO PLAY THIS GAME')\n",
    "        break\n",
    "    ps = input(\"PLAYER'S CHANCE - Do you want to hit or stand : \")\n",
    "    while ps.lower() == 'hit' :\n",
    "        try :\n",
    "            x = random.choice(num_list)\n",
    "            y = random.choice(special_list)\n",
    "            z = y[x]\n",
    "            print('YOU HAVE CHOSEN ',z)\n",
    "            if p > 21 :\n",
    "                break\n",
    "            elif x == 14 or x == 1 :\n",
    "                p_choose = int(input('Enter the value you want to assign to your ace : '))\n",
    "                if p_choose == 1 :\n",
    "                    p = p + 1\n",
    "                    print('SUM OF YOUR NUMBERS ARE : ',p)\n",
    "                    y.pop(1)\n",
    "                    y.pop(14)\n",
    "                elif p_choose == 11 :\n",
    "                    p = p + 11\n",
    "                    print('SUM OF YOUR NUMBERS ARE : ',p)\n",
    "                    y.pop(1)\n",
    "                    y.pop(14)\n",
    "            elif x > 10 :\n",
    "                p = p + 10\n",
    "                print('SUM OF YOUR NUMBERS ARE : ',p)\n",
    "                y.pop(x)\n",
    "            elif x <= 10 :\n",
    "                p = p + x\n",
    "                print('SUM OF YOUR NUMBERS ARE : ',p)\n",
    "                y.pop(x)\n",
    "            ps = input(\"Type hit or stand : \")\n",
    "        except :\n",
    "            continue\n",
    "    if p > 21 :\n",
    "        print('BUSTED')\n",
    "        information.lost()\n",
    "        print('BALANCE : ',information.account_money)\n",
    "    else :\n",
    "        dsss = input(\"DEALER'S CHANCE - Do you want to hit or stand : \")\n",
    "        while dsss.lower() == 'hit' :\n",
    "            try :\n",
    "                g = random.choice(num_list)\n",
    "                h = random.choice(special_list)\n",
    "                oo = h[g]\n",
    "                print('YOU HAVE CHOSEN ',oo)\n",
    "                if l > 21 :\n",
    "                    break\n",
    "                elif g == 14 or g == 1 :\n",
    "                    d_choose = int(input('Enter the value you want to assign to your ace : '))\n",
    "                    if d_choose == 1 :\n",
    "                        l = l + 1\n",
    "                        print('SUM OF YOUR NUMBERS ARE : ',l)\n",
    "                        y.pop(1)\n",
    "                        y.pop(14)\n",
    "                    elif d_choose == 11 :\n",
    "                        l = l + 11\n",
    "                        print('SUM OF YOUR NUMBERS ARE : ',l)\n",
    "                        y.pop(1)\n",
    "                        y.pop(14)\n",
    "                elif g > 10 :\n",
    "                    l = l + 10\n",
    "                    print('SUM OF YOUR NUMBERS ARE : ',l)\n",
    "                    h.pop(g)\n",
    "                elif g <= 10 :\n",
    "                    l = l + g\n",
    "                    print('SUM OF YOUR NUMBERS ARE : ',l)\n",
    "                    h.pop(g)\n",
    "                dsss = input(\"Type hit or stand : \")\n",
    "            except :\n",
    "                continue\n",
    "        if l > 21 :\n",
    "            print('DEALER BUSTED!')\n",
    "            information.won()\n",
    "            print('BALANCE : ',information.account_money)\n",
    "        elif l < 21 and l < p :\n",
    "            print('PLAYER WON')\n",
    "            information.won()\n",
    "            print('BALANCE : ',information.account_money)\n",
    "        elif l <= 21 and l > p :\n",
    "            print('DEALER WON')\n",
    "            information.lost()\n",
    "            print('BALANCE : ',information.account_money)\n",
    "        elif l == p :\n",
    "            print('ITS A TIE')\n",
    "        elif p == 21 and l < 21 :\n",
    "            print('YOU WON A BUMPER PRIZE')\n",
    "            information.bumper_won()\n",
    "            print('BALANCE : ',information.account_money)\n",
    "        \n",
    "    k = input('Do you want to play again? : ') \n",
    "print('BYE SIR/MADAM')"
   ]
  },
  {
   "cell_type": "code",
   "execution_count": 13,
   "metadata": {},
   "outputs": [
    {
     "name": "stdout",
     "output_type": "stream",
     "text": [
      "hello\n"
     ]
    }
   ],
   "source": [
    "print('hello')"
   ]
  },
  {
   "cell_type": "code",
   "execution_count": 2,
   "metadata": {},
   "outputs": [
    {
     "name": "stdout",
     "output_type": "stream",
     "text": [
      "2\n"
     ]
    }
   ],
   "source": [
    "#Check\n",
    "import random \n",
    "sss = [1,2,3,4]\n",
    "tpp = random.choice(sss)\n",
    "print(tpp)"
   ]
  },
  {
   "cell_type": "code",
   "execution_count": null,
   "metadata": {},
   "outputs": [],
   "source": []
  }
 ],
 "metadata": {
  "kernelspec": {
   "display_name": "Python 3",
   "language": "python",
   "name": "python3"
  },
  "language_info": {
   "codemirror_mode": {
    "name": "ipython",
    "version": 3
   },
   "file_extension": ".py",
   "mimetype": "text/x-python",
   "name": "python",
   "nbconvert_exporter": "python",
   "pygments_lexer": "ipython3",
   "version": "3.7.3"
  }
 },
 "nbformat": 4,
 "nbformat_minor": 2
}
